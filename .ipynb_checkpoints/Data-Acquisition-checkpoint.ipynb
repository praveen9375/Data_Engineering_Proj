{
 "cells": [
  {
   "cell_type": "code",
   "execution_count": 1,
   "id": "b788b4ff",
   "metadata": {},
   "outputs": [],
   "source": [
    "import requests\n",
    "from requests_oauthlib import OAuth1Session\n",
    "import os\n",
    "import json"
   ]
  },
  {
   "cell_type": "code",
   "execution_count": 2,
   "id": "3e0443c5",
   "metadata": {},
   "outputs": [],
   "source": [
    "import time\n",
    "import pandas as pd\n",
    "from queue import Queue\n",
    "import threading\n",
    "from concurrent.futures import ThreadPoolExecutor"
   ]
  },
  {
   "cell_type": "code",
   "execution_count": 3,
   "id": "da2eebf1",
   "metadata": {},
   "outputs": [],
   "source": [
    "os.environ['consumer_key'] = 'dRn8chuiS3rkHEF9DgfDmKEKL'\n",
    "os.environ['consumer_secret_key'] = 'IXb1pCqtwTy0tCZMK6pFGYe0JXx7VJMdbDNMZ1tFfaoKWYwwNe'"
   ]
  },
  {
   "cell_type": "code",
   "execution_count": 4,
   "id": "7b0f3bf0",
   "metadata": {},
   "outputs": [],
   "source": [
    "class Twitter_Proj:\n",
    "    \n",
    "    def __init__(self):\n",
    "        self.consumer_key = os.environ.get('consumer_key')\n",
    "        self.consumer_secret_key = os.environ.get('consumer_secret_key')\n",
    "        self.fields = \"created_at,description,entities,id,location,name,public_metrics,url,username,verified,withheld\"\n",
    "        self.params = {\"user.fields\":self.fields}\n",
    "    \n",
    "    def request_token(self):\n",
    "        request_token_url = \"https://api.twitter.com/oauth/request_token\"\n",
    "        oauth = OAuth1Session(self.consumer_key, client_secret=self.consumer_secret_key)\n",
    "\n",
    "        try:\n",
    "            fetch_response = oauth.fetch_request_token(request_token_url)\n",
    "            self.resource_owner_key = fetch_response.get(\"oauth_token\")\n",
    "            self.resource_owner_secret = fetch_response.get(\"oauth_token_secret\")\n",
    "            print(\"Got OAuth token: %s\" % self.resource_owner_key)\n",
    "        except ValueError:\n",
    "            print(\"There may have been an issue with the consumer_key or consumer_secret you entered.\")\n",
    "        \n",
    "        return self.resource_owner_key, self.resource_owner_secret\n",
    "    \n",
    "    def get_authorization(self):\n",
    "        base_authorization_url = \"https://api.twitter.com/oauth/authorize\"\n",
    "        oauth = OAuth1Session(self.consumer_key, client_secret=self.consumer_secret_key,\n",
    "                              resource_owner_key=self.resource_owner_key, resource_owner_secret=self.resource_owner_secret)\n",
    "        authorization_url = oauth.authorization_url(base_authorization_url)\n",
    "        print(\"Please go here and authorize: %s\" % authorization_url)\n",
    "        verifier = input(\"Paste the PIN here: \")\n",
    "        \n",
    "        access_token_url = \"https://api.twitter.com/oauth/access_token\"\n",
    "        oauth = OAuth1Session(self.consumer_key, client_secret=self.consumer_secret_key,\n",
    "                              resource_owner_key=self.resource_owner_key, resource_owner_secret=self.resource_owner_secret,\n",
    "                              verifier=verifier)\n",
    "        \n",
    "        try:\n",
    "            oauth_tokens = oauth.fetch_access_token(access_token_url)\n",
    "            access_token = oauth_tokens.get('oauth_token')\n",
    "            access_token_secret = oauth_tokens.get('oauth_token_secret')\n",
    "            print(\"Got access token: %s\" % access_token)\n",
    "        except ValueError:\n",
    "            print(\"There may have been an issue with the verifier or access token URL.\")\n",
    "        \n",
    "        self.oauth = OAuth1Session(self.consumer_key, client_secret=self.consumer_secret_key,\n",
    "                                   resource_owner_key=access_token, resource_owner_secret=access_token_secret)\n",
    "        \n",
    "    def make_request(self, url):\n",
    "        response = self.oauth.get(url, params=self.params)\n",
    "        if response.status_code == 200:\n",
    "            return response.json()\n",
    "        else:\n",
    "            print(\"Request failed with status code %d\" % response.status_code)\n",
    "            return None\n",
    "    \n",
    "    def producer(self, url):\n",
    "        while True:\n",
    "            response = self.make_request(url)\n",
    "            self.queue.put(response) \n",
    "            time.sleep(1)\n",
    "            \n",
    "    def consumer(self):\n",
    "        while True:\n",
    "            response = self.queue.get()  # Dequeue the response\n",
    "            print(response)\n",
    "            time.sleep(1)\n",
    "            self.queue.task_done()\n",
    "            \n",
    "    def start(self, url, num_producers=2, num_consumers=2):\n",
    "        with ThreadPoolExecutor(max_workers=num_producers + num_consumers) as executor:\n",
    "            for i in range(num_producers):\n",
    "                executor.submit(self.producer, url)\n",
    "            for j in range(num_consumers):\n",
    "                executor.submit(self.consumer)    \n",
    "    \n",
    "    def change_to_dataframe(self, data):\n",
    "        if data:\n",
    "            return pd.DataFrame(data)\n",
    "        else:\n",
    "            return None"
   ]
  },
  {
   "cell_type": "code",
   "execution_count": 5,
   "id": "fb824525",
   "metadata": {},
   "outputs": [],
   "source": [
    "twitter_proj = Twitter_Proj()"
   ]
  },
  {
   "cell_type": "code",
   "execution_count": 6,
   "id": "ea87362d",
   "metadata": {},
   "outputs": [
    {
     "name": "stdout",
     "output_type": "stream",
     "text": [
      "Got OAuth token: rK9u5wAAAAABoEHvAAABiQFCrb0\n"
     ]
    },
    {
     "data": {
      "text/plain": [
       "('rK9u5wAAAAABoEHvAAABiQFCrb0', 'o2kINIG9fISU5MrPtJ0JbMS8vPgfsEeU')"
      ]
     },
     "execution_count": 6,
     "metadata": {},
     "output_type": "execute_result"
    }
   ],
   "source": [
    "twitter_proj.request_token()"
   ]
  },
  {
   "cell_type": "code",
   "execution_count": 7,
   "id": "4a82ac5f",
   "metadata": {
    "scrolled": true
   },
   "outputs": [
    {
     "name": "stdout",
     "output_type": "stream",
     "text": [
      "Please go here and authorize: https://api.twitter.com/oauth/authorize?oauth_token=rK9u5wAAAAABoEHvAAABiQFCrb0\n",
      "Paste the PIN here: 6427950\n",
      "Got access token: 1667027254680121344-cpl0u4CiFLSwGoWCPNN7WHYKx1kQP4\n"
     ]
    }
   ],
   "source": [
    "twitter_proj.get_authorization()"
   ]
  },
  {
   "cell_type": "code",
   "execution_count": 8,
   "id": "bd4fd9df",
   "metadata": {},
   "outputs": [],
   "source": [
    "url = \"https://api.twitter.com/2/users/me\"\n",
    "twitter_proj.start(url, num_producers=2, num_consumers=2)"
   ]
  },
  {
   "cell_type": "code",
   "execution_count": 9,
   "id": "06967f15",
   "metadata": {
    "scrolled": true
   },
   "outputs": [],
   "source": [
    "response = twitter_proj.make_request(url)"
   ]
  },
  {
   "cell_type": "code",
   "execution_count": 10,
   "id": "f822865d",
   "metadata": {},
   "outputs": [
    {
     "name": "stdout",
     "output_type": "stream",
     "text": [
      "public_metrics:\n",
      "    followers_count: 0\n",
      "    following_count: 3\n",
      "    tweet_count: 3\n",
      "    listed_count: 0\n",
      "id: 1667027254680121344\n",
      "verified: False\n",
      "created_at: 2023-06-09T04:34:18.000Z\n",
      "description: \n",
      "name: Prasiddha Guragain\n",
      "username: G54427Guragain\n"
     ]
    }
   ],
   "source": [
    "if response.get('data'):\n",
    "    data_dict = response['data']\n",
    "    for key, value in data_dict.items():\n",
    "        if key == 'public_metrics':\n",
    "            print('public_metrics:')\n",
    "            for sub_key, sub_value in value.items():\n",
    "                print(f'    {sub_key}: {sub_value}')\n",
    "        else:\n",
    "            print(f'{key}: {value}')"
   ]
  },
  {
   "cell_type": "code",
   "execution_count": 36,
   "id": "9b2c6098",
   "metadata": {},
   "outputs": [
    {
     "name": "stdout",
     "output_type": "stream",
     "text": [
      "                 id  verified               created_at description               name       username  followers_count  following_count  tweet_count  listed_count\n",
      "1667027254680121344     False 2023-06-09T04:34:18.000Z             Prasiddha Guragain G54427Guragain                0                3            3             0\n"
     ]
    }
   ],
   "source": [
    "if 'public_metrics' in response:\n",
    "    public_metrics = response.pop('public_metrics')\n",
    "    for key, value in public_metrics.items():\n",
    "        response[key] = value\n",
    "\n",
    "df = pd.DataFrame([response])  # Convert the dictionary to a dataframe\n",
    "if df is not None:\n",
    "    print(df.to_string(index=False))"
   ]
  },
  {
   "cell_type": "code",
   "execution_count": 39,
   "id": "dc29d1ec",
   "metadata": {},
   "outputs": [
    {
     "data": {
      "text/html": [
       "<div>\n",
       "<style scoped>\n",
       "    .dataframe tbody tr th:only-of-type {\n",
       "        vertical-align: middle;\n",
       "    }\n",
       "\n",
       "    .dataframe tbody tr th {\n",
       "        vertical-align: top;\n",
       "    }\n",
       "\n",
       "    .dataframe thead th {\n",
       "        text-align: right;\n",
       "    }\n",
       "</style>\n",
       "<table border=\"1\" class=\"dataframe\">\n",
       "  <thead>\n",
       "    <tr style=\"text-align: right;\">\n",
       "      <th></th>\n",
       "      <th>id</th>\n",
       "      <th>verified</th>\n",
       "      <th>created_at</th>\n",
       "      <th>description</th>\n",
       "      <th>name</th>\n",
       "      <th>username</th>\n",
       "      <th>followers_count</th>\n",
       "      <th>following_count</th>\n",
       "      <th>tweet_count</th>\n",
       "      <th>listed_count</th>\n",
       "    </tr>\n",
       "  </thead>\n",
       "  <tbody>\n",
       "    <tr>\n",
       "      <th>0</th>\n",
       "      <td>1667027254680121344</td>\n",
       "      <td>False</td>\n",
       "      <td>2023-06-09T04:34:18.000Z</td>\n",
       "      <td></td>\n",
       "      <td>Prasiddha Guragain</td>\n",
       "      <td>G54427Guragain</td>\n",
       "      <td>0</td>\n",
       "      <td>3</td>\n",
       "      <td>3</td>\n",
       "      <td>0</td>\n",
       "    </tr>\n",
       "  </tbody>\n",
       "</table>\n",
       "</div>"
      ],
      "text/plain": [
       "                    id  verified                created_at description  \\\n",
       "0  1667027254680121344     False  2023-06-09T04:34:18.000Z               \n",
       "\n",
       "                 name        username  followers_count  following_count  \\\n",
       "0  Prasiddha Guragain  G54427Guragain                0                3   \n",
       "\n",
       "   tweet_count  listed_count  \n",
       "0            3             0  "
      ]
     },
     "execution_count": 39,
     "metadata": {},
     "output_type": "execute_result"
    }
   ],
   "source": [
    "df.head()"
   ]
  },
  {
   "cell_type": "code",
   "execution_count": 41,
   "id": "c22c73aa",
   "metadata": {},
   "outputs": [],
   "source": [
    "metrics = df[['followers_count', 'following_count', 'tweet_count', 'listed_count']]"
   ]
  },
  {
   "cell_type": "code",
   "execution_count": 42,
   "id": "596fc1c2",
   "metadata": {},
   "outputs": [
    {
     "data": {
      "text/html": [
       "<div>\n",
       "<style scoped>\n",
       "    .dataframe tbody tr th:only-of-type {\n",
       "        vertical-align: middle;\n",
       "    }\n",
       "\n",
       "    .dataframe tbody tr th {\n",
       "        vertical-align: top;\n",
       "    }\n",
       "\n",
       "    .dataframe thead th {\n",
       "        text-align: right;\n",
       "    }\n",
       "</style>\n",
       "<table border=\"1\" class=\"dataframe\">\n",
       "  <thead>\n",
       "    <tr style=\"text-align: right;\">\n",
       "      <th></th>\n",
       "      <th>followers_count</th>\n",
       "      <th>following_count</th>\n",
       "      <th>tweet_count</th>\n",
       "      <th>listed_count</th>\n",
       "    </tr>\n",
       "  </thead>\n",
       "  <tbody>\n",
       "    <tr>\n",
       "      <th>0</th>\n",
       "      <td>0</td>\n",
       "      <td>3</td>\n",
       "      <td>3</td>\n",
       "      <td>0</td>\n",
       "    </tr>\n",
       "  </tbody>\n",
       "</table>\n",
       "</div>"
      ],
      "text/plain": [
       "   followers_count  following_count  tweet_count  listed_count\n",
       "0                0                3            3             0"
      ]
     },
     "execution_count": 42,
     "metadata": {},
     "output_type": "execute_result"
    }
   ],
   "source": [
    "metrics"
   ]
  },
  {
   "cell_type": "code",
   "execution_count": 43,
   "id": "262308c6",
   "metadata": {},
   "outputs": [],
   "source": [
    "metrics = pd.DataFrame(metrics, index=[0])"
   ]
  },
  {
   "cell_type": "code",
   "execution_count": 44,
   "id": "8dd942a2",
   "metadata": {},
   "outputs": [
    {
     "data": {
      "text/html": [
       "<div>\n",
       "<style scoped>\n",
       "    .dataframe tbody tr th:only-of-type {\n",
       "        vertical-align: middle;\n",
       "    }\n",
       "\n",
       "    .dataframe tbody tr th {\n",
       "        vertical-align: top;\n",
       "    }\n",
       "\n",
       "    .dataframe thead th {\n",
       "        text-align: right;\n",
       "    }\n",
       "</style>\n",
       "<table border=\"1\" class=\"dataframe\">\n",
       "  <thead>\n",
       "    <tr style=\"text-align: right;\">\n",
       "      <th></th>\n",
       "      <th>followers_count</th>\n",
       "      <th>following_count</th>\n",
       "      <th>tweet_count</th>\n",
       "      <th>listed_count</th>\n",
       "    </tr>\n",
       "  </thead>\n",
       "  <tbody>\n",
       "    <tr>\n",
       "      <th>0</th>\n",
       "      <td>0</td>\n",
       "      <td>3</td>\n",
       "      <td>3</td>\n",
       "      <td>0</td>\n",
       "    </tr>\n",
       "  </tbody>\n",
       "</table>\n",
       "</div>"
      ],
      "text/plain": [
       "   followers_count  following_count  tweet_count  listed_count\n",
       "0                0                3            3             0"
      ]
     },
     "execution_count": 44,
     "metadata": {},
     "output_type": "execute_result"
    }
   ],
   "source": [
    "metrics.head()"
   ]
  },
  {
   "cell_type": "code",
   "execution_count": 45,
   "id": "1b236ae0",
   "metadata": {},
   "outputs": [],
   "source": [
    "metrics.to_csv('public_metrics.csv', index=False)"
   ]
  },
  {
   "cell_type": "code",
   "execution_count": 46,
   "id": "d4ed0369",
   "metadata": {},
   "outputs": [],
   "source": [
    "df.to_csv('twitter_data.csv', index=False)"
   ]
  },
  {
   "cell_type": "code",
   "execution_count": null,
   "id": "5926241c",
   "metadata": {},
   "outputs": [],
   "source": []
  }
 ],
 "metadata": {
  "kernelspec": {
   "display_name": "Python 3 (ipykernel)",
   "language": "python",
   "name": "python3"
  },
  "language_info": {
   "codemirror_mode": {
    "name": "ipython",
    "version": 3
   },
   "file_extension": ".py",
   "mimetype": "text/x-python",
   "name": "python",
   "nbconvert_exporter": "python",
   "pygments_lexer": "ipython3",
   "version": "3.9.13"
  }
 },
 "nbformat": 4,
 "nbformat_minor": 5
}
